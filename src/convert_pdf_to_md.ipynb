{
 "cells": [
  {
   "cell_type": "code",
   "execution_count": null,
   "metadata": {},
   "outputs": [],
   "source": [
    "from pathlib import Path\n",
    "\n",
    "from marker.config.parser import ConfigParser\n",
    "from marker.converters.pdf import PdfConverter\n",
    "from marker.models import create_model_dict\n",
    "from marker.output import text_from_rendered\n",
    "from glob import glob\n"
   ]
  },
  {
   "cell_type": "code",
   "execution_count": 17,
   "metadata": {},
   "outputs": [
    {
     "name": "stdout",
     "output_type": "stream",
     "text": [
      "Found 51 PDF files\n"
     ]
    }
   ],
   "source": [
    "pdf_path = Path(\".\").cwd().parent / \"data\" / \"pdfs\"\n",
    "md_path = Path(\".\").cwd().parent / \"data\" / \"markdown\"\n",
    "\n",
    "pdf_files = glob(str(pdf_path / \"*.pdf\"))\n",
    "pdf_files.sort()\n",
    "print(f\"Found {len(pdf_files)} PDF files\")\n",
    "\n",
    "md_path.mkdir(parents=True, exist_ok=True)"
   ]
  },
  {
   "cell_type": "markdown",
   "metadata": {},
   "source": [
    "Even though we did not pass `workers` or `num_devices`, it's using 100% of my Macbook Pro M4 GPU.\n",
    "\n",
    "## LLM Config\n",
    "\n",
    "You can find what LLMs are available from [here.](https://github.com/VikParuchuri/marker?tab=readme-ov-file#llm-services) Just note that the service must be passed as string, and not the actual object (eg.`\"marker.services.ollama.OllamaService\"`).\n"
   ]
  },
  {
   "cell_type": "code",
   "execution_count": null,
   "metadata": {},
   "outputs": [],
   "source": [
    "# Same as the CLI configs\n",
    "# run `$ marker --help` to see all the config options\n",
    "config = {\n",
    "    # \"num_devices\": 5,  # min 2. Number of GPUs to use\n",
    "    \"workers\": 2,  # 5 by default. Number of conversion workers to run simultaneously\n",
    "    # \"output_dir\": md_path,  # todo: test if it will save it automatically\n",
    "    \"output_format\": \"markdown\",  # options: markdown, json, html\n",
    "    \"force_ocr\": False,  # avoid OCR if not needed\n",
    "    \"languages\": \"en\",  # support English for OCR\n",
    "    \"paginate_output\": False,  # add page numbers to the output [Markdown]\n",
    "    \"disable_links\": True,  # removes hyperlinks in text\n",
    "    # --- LLM Config\n",
    "    \"use_llm\": False,  # too big and slow for local\n",
    "    # --- OLLAMA\n",
    "    \"llm_service\": \"marker.services.ollama.OllamaService\",\n",
    "    \"ollama_base_url\": \"http://localhost:11434\",\n",
    "    # \"ollama_model\": \"gemma3:4b\",\n",
    "    \"ollama_model\": \"smollm2:135m\",\n",
    "    # --- GEMINI\n",
    "    # \"gemini_api_key\": \"API KEY\",\n",
    "    # \"llm_service\": \"services.gemini.GoogleGeminiService\", # default\n",
    "    # \"model_name\": \"gemini-2.0-flash\" # default\n",
    "}\n",
    "\n",
    "config_parser = ConfigParser(config)"
   ]
  },
  {
   "cell_type": "code",
   "execution_count": 4,
   "metadata": {},
   "outputs": [
    {
     "name": "stdout",
     "output_type": "stream",
     "text": [
      "Loaded layout model s3://layout/2025_02_18 on device mps with dtype torch.float16\n",
      "Loaded texify model s3://texify/2025_02_18 on device mps with dtype torch.float16\n",
      "Loaded recognition model s3://text_recognition/2025_02_18 on device mps with dtype torch.float16\n",
      "Loaded table recognition model s3://table_recognition/2025_02_18 on device mps with dtype torch.float16\n",
      "Loaded detection model s3://text_detection/2025_02_28 on device mps with dtype torch.float16\n",
      "Loaded detection model s3://inline_math_detection/2025_02_24 on device mps with dtype torch.float16\n"
     ]
    }
   ],
   "source": [
    "converter = PdfConverter(\n",
    "    config=config_parser.generate_config_dict(),\n",
    "    artifact_dict=create_model_dict(),\n",
    "    processor_list=config_parser.get_processors(),\n",
    "    renderer=config_parser.get_renderer(),\n",
    "    llm_service=config_parser.get_llm_service(),\n",
    ")"
   ]
  },
  {
   "cell_type": "code",
   "execution_count": null,
   "metadata": {},
   "outputs": [],
   "source": [
    "# Convert the document\n",
    "for file in pdf_files:\n",
    "    rendered = converter(file)\n",
    "\n",
    "    # Save the output to a file\n",
    "    output_file = md_path / Path(file).name.replace(\".pdf\", \".md\")\n",
    "\n",
    "    with open(output_file, \"w\") as f:\n",
    "        # markdown_text, metadata, images = text_from_rendered(rendered)\n",
    "        f.write(text_from_rendered(rendered))"
   ]
  }
 ],
 "metadata": {
  "kernelspec": {
   "display_name": ".venv",
   "language": "python",
   "name": "python3"
  },
  "language_info": {
   "codemirror_mode": {
    "name": "ipython",
    "version": 3
   },
   "file_extension": ".py",
   "mimetype": "text/x-python",
   "name": "python",
   "nbconvert_exporter": "python",
   "pygments_lexer": "ipython3",
   "version": "3.11.11"
  }
 },
 "nbformat": 4,
 "nbformat_minor": 2
}
