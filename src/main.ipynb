{
 "cells": [
  {
   "cell_type": "code",
   "execution_count": 1,
   "id": "d3c5816f",
   "metadata": {},
   "outputs": [
    {
     "name": "stdout",
     "output_type": "stream",
     "text": [
      "Root Directory: /DATA/Ali_Data/GraphRAG-Neo4j-VMD-NAMD\n"
     ]
    },
    {
     "data": {
      "text/plain": [
       "True"
      ]
     },
     "execution_count": 1,
     "metadata": {},
     "output_type": "execute_result"
    }
   ],
   "source": [
    "import dotenv\n",
    "import utils\n",
    "\n",
    "\n",
    "# Add the modules directory to the Python path if needed\n",
    "# sys.path.append(os.path.abspath(\"./modules\"))\n",
    "\n",
    "# load variables into env\n",
    "root_dir = utils.get_project_root()\n",
    "f = root_dir / \".secrets\" / \".env\"\n",
    "assert f.exists(), f\"File not found: {f}\"\n",
    "dotenv.load_dotenv(f)\n"
   ]
  },
  {
   "cell_type": "code",
   "execution_count": null,
   "id": "4737d57c",
   "metadata": {},
   "outputs": [],
   "source": [
    "# from langchain_core.runnables import  RunnablePassthrough\n",
    "# from langchain_core.prompts import ChatPromptTemplate\n",
    "# from pydantic import BaseModel, Field\n",
    "# from langchain_core.output_parsers import StrOutputParser\n",
    "# from langchain_community.graphs import Neo4jGraph\n",
    "# from langchain.text_splitter import RecursiveCharacterTextSplitter\n",
    "# from langchain_community.chat_models import ChatOllama\n",
    "# from langchain_experimental.graph_transformers import LLMGraphTransformer\n",
    "# from neo4j import GraphDatabase\n",
    "# from yfiles_jupyter_graphs import GraphWidget\n",
    "# from langchain_community.vectorstores import Neo4jVector\n",
    "# from langchain_community.document_loaders import TextLoader\n",
    "# from langchain_community.vectorstores.neo4j_vector import remove_lucene_chars\n",
    "# from langchain_ollama import OllamaEmbeddings\n",
    "# from langchain_experimental.llms.ollama_functions import OllamaFunctions\n",
    "\n",
    "# import os\n",
    "# import sys\n"
   ]
  },
  {
   "cell_type": "code",
   "execution_count": null,
   "id": "2898792b",
   "metadata": {},
   "outputs": [],
   "source": [
    "from neo4j import Driver\n",
    "from langchain_neo4j import Neo4jGraph\n",
    "\n",
    "graph = Neo4jGraph()\n"
   ]
  }
 ],
 "metadata": {
  "kernelspec": {
   "display_name": ".venv",
   "language": "python",
   "name": "python3"
  },
  "language_info": {
   "codemirror_mode": {
    "name": "ipython",
    "version": 3
   },
   "file_extension": ".py",
   "mimetype": "text/x-python",
   "name": "python",
   "nbconvert_exporter": "python",
   "pygments_lexer": "ipython3",
   "version": "3.11.9"
  }
 },
 "nbformat": 4,
 "nbformat_minor": 5
}
